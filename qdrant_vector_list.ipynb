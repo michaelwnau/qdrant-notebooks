{
  "cells": [
    {
      "cell_type": "markdown",
      "metadata": {
        "id": "view-in-github",
        "colab_type": "text"
      },
      "source": [
        "<a href=\"https://colab.research.google.com/github/michaelwnau/qdrant-notebooks/blob/main/qdrant_vector_list.ipynb\" target=\"_parent\"><img src=\"https://colab.research.google.com/assets/colab-badge.svg\" alt=\"Open In Colab\"/></a>"
      ]
    },
    {
      "cell_type": "code",
      "execution_count": null,
      "id": "dc4fb1d3-73a9-4e4e-9017-1320ff682e22",
      "metadata": {
        "id": "dc4fb1d3-73a9-4e4e-9017-1320ff682e22"
      },
      "outputs": [],
      "source": [
        "# Start qdrant in docker and run from localhost first.\n",
        "# $ docker pull qdrant/qdrant\n",
        "# $ docker run -p 6333:6333 qdrant/qdrant"
      ]
    },
    {
      "cell_type": "code",
      "execution_count": null,
      "id": "e8928572-9b9c-4316-913d-2ed359862e7e",
      "metadata": {
        "id": "e8928572-9b9c-4316-913d-2ed359862e7e"
      },
      "outputs": [],
      "source": [
        "from qdrant_client import QdrantClient\n",
        "from qdrant_client.http import models"
      ]
    },
    {
      "cell_type": "code",
      "execution_count": null,
      "id": "66ac2635-60e1-41cb-ba74-d5402ecee4e9",
      "metadata": {
        "id": "66ac2635-60e1-41cb-ba74-d5402ecee4e9"
      },
      "outputs": [],
      "source": [
        "client = QdrantClient(\"localhost\", port=6333)"
      ]
    },
    {
      "cell_type": "code",
      "execution_count": null,
      "id": "b4d2587e-1ca3-41a8-a62a-985dc3f07af2",
      "metadata": {
        "id": "b4d2587e-1ca3-41a8-a62a-985dc3f07af2",
        "outputId": "4d894523-7f33-4ae8-cbf9-9c4c66ed778e"
      },
      "outputs": [
        {
          "data": {
            "text/plain": [
              "True"
            ]
          },
          "execution_count": 10,
          "metadata": {},
          "output_type": "execute_result"
        }
      ],
      "source": [
        "client.create_collection(\n",
        "    collection_name=\"hello_world_collection\",\n",
        "    vectors_config=models.VectorParams(size=4, distance=models.Distance.COSINE)\n",
        ")"
      ]
    },
    {
      "cell_type": "code",
      "execution_count": null,
      "id": "ea5ffa59-7c87-4f19-9507-693637d117ba",
      "metadata": {
        "id": "ea5ffa59-7c87-4f19-9507-693637d117ba",
        "outputId": "b2cd4cf3-ad45-4a61-e244-b28661a63d40"
      },
      "outputs": [
        {
          "data": {
            "text/plain": [
              "UpdateResult(operation_id=1, status=<UpdateStatus.COMPLETED: 'completed'>)"
            ]
          },
          "execution_count": 17,
          "metadata": {},
          "output_type": "execute_result"
        }
      ],
      "source": [
        "client.upsert(\n",
        "    collection_name=\"hello_world_collection\",\n",
        "    points=[\n",
        "        models.PointStruct(\n",
        "            id=1,\n",
        "            payload={\n",
        "                \"name\": \"apple\",\n",
        "            },\n",
        "            vector=[1.1, 0.1, -2.1, 0.05],\n",
        "        ),\n",
        "    ],\n",
        ")"
      ]
    },
    {
      "cell_type": "code",
      "execution_count": null,
      "id": "45523686-97b4-46e8-8dbb-a1cc9d12ce24",
      "metadata": {
        "id": "45523686-97b4-46e8-8dbb-a1cc9d12ce24",
        "outputId": "8151b590-3304-4fea-cacc-635fc9cf3302"
      },
      "outputs": [
        {
          "data": {
            "text/plain": [
              "[Record(id=1, payload={'name': 'apple'}, vector=None, shard_key=None)]"
            ]
          },
          "execution_count": 18,
          "metadata": {},
          "output_type": "execute_result"
        }
      ],
      "source": [
        "  client.retrieve(\n",
        "      collection_name=\"hello_world_collection\",\n",
        "      ids=[1]\n",
        "  )"
      ]
    },
    {
      "cell_type": "code",
      "execution_count": null,
      "id": "da6586d2-27df-4791-9227-3a9d5dd92af0",
      "metadata": {
        "id": "da6586d2-27df-4791-9227-3a9d5dd92af0",
        "outputId": "956e101e-30d0-4b69-e834-183d9bcb2387"
      },
      "outputs": [
        {
          "data": {
            "text/plain": [
              "UpdateResult(operation_id=2, status=<UpdateStatus.COMPLETED: 'completed'>)"
            ]
          },
          "execution_count": 20,
          "metadata": {},
          "output_type": "execute_result"
        }
      ],
      "source": [
        "client.upsert(\n",
        "    collection_name=\"hello_world_collection\",\n",
        "    points=models.Batch(\n",
        "        ids=[2, 3],\n",
        "        payloads=[\n",
        "            {\"name\": \"orange\"},\n",
        "            {\"name\": \"peach\"},\n",
        "        ],\n",
        "        vectors=[\n",
        "            [3.24, 7.1, 2.8, 1.15],\n",
        "            [1.1, -0.2, -2.1, 3.21],\n",
        "        ],\n",
        "    ),\n",
        ")\n"
      ]
    },
    {
      "cell_type": "code",
      "execution_count": null,
      "id": "ec7948e1-a735-4281-9e8a-75283e9c5a35",
      "metadata": {
        "id": "ec7948e1-a735-4281-9e8a-75283e9c5a35",
        "outputId": "45552ac1-d112-4b4c-8775-062686d7a015"
      },
      "outputs": [
        {
          "data": {
            "text/plain": [
              "[Record(id=1, payload={'name': 'apple'}, vector=None, shard_key=None),\n",
              " Record(id=2, payload={'name': 'orange'}, vector=None, shard_key=None),\n",
              " Record(id=3, payload={'name': 'peach'}, vector=None, shard_key=None)]"
            ]
          },
          "execution_count": 25,
          "metadata": {},
          "output_type": "execute_result"
        }
      ],
      "source": [
        "client.retrieve(\n",
        "    collection_name=\"hello_world_collection\",\n",
        "    ids=[1, 2, 3]\n",
        ")"
      ]
    },
    {
      "cell_type": "code",
      "execution_count": null,
      "id": "1c443bb5-316c-43d6-9997-0003b7a9b266",
      "metadata": {
        "id": "1c443bb5-316c-43d6-9997-0003b7a9b266"
      },
      "outputs": [],
      "source": []
    }
  ],
  "metadata": {
    "kernelspec": {
      "display_name": "Python 3 (ipykernel)",
      "language": "python",
      "name": "python3"
    },
    "language_info": {
      "codemirror_mode": {
        "name": "ipython",
        "version": 3
      },
      "file_extension": ".py",
      "mimetype": "text/x-python",
      "name": "python",
      "nbconvert_exporter": "python",
      "pygments_lexer": "ipython3",
      "version": "3.12.0"
    },
    "colab": {
      "provenance": [],
      "include_colab_link": true
    }
  },
  "nbformat": 4,
  "nbformat_minor": 5
}