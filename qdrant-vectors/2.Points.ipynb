{
 "cells": [
  {
   "cell_type": "code",
   "execution_count": 1,
   "id": "f93ab893-61db-47e4-96f9-9d85c2aa31bb",
   "metadata": {},
   "outputs": [],
   "source": [
    "from qdrant_client import QdrantClient\n",
    "from qdrant_client.http import models"
   ]
  },
  {
   "cell_type": "code",
   "execution_count": 2,
   "id": "9bf9e558-8545-408e-b7aa-aa47b6da9921",
   "metadata": {},
   "outputs": [],
   "source": [
    "client = QdrantClient(\"localhost\", port=6333)"
   ]
  },
  {
   "cell_type": "code",
   "execution_count": 3,
   "id": "9520502a-60bc-412e-88a4-27a54c1f7fa6",
   "metadata": {},
   "outputs": [
    {
     "data": {
      "text/plain": [
       "UpdateResult(operation_id=0, status=<UpdateStatus.COMPLETED: 'completed'>)"
      ]
     },
     "execution_count": 3,
     "metadata": {},
     "output_type": "execute_result"
    }
   ],
   "source": [
    "# single point insert\n",
    "\n",
    "client.upsert(\n",
    "    collection_name=\"hello_world_collection\",\n",
    "    points=[\n",
    "        models.PointStruct(\n",
    "            id=1,\n",
    "            payload={\n",
    "                \"name\": \"apple\",\n",
    "            },\n",
    "            vector=[1.1, 0.1, -2.1, 0.05],\n",
    "        ),\n",
    "    ],\n",
    ")"
   ]
  },
  {
   "cell_type": "code",
   "execution_count": 8,
   "id": "c266852e-7e5e-48b9-8328-44123a8b392e",
   "metadata": {},
   "outputs": [
    {
     "data": {
      "text/plain": [
       "[Record(id=1, payload={'name': 'apple'}, vector=None, shard_key=None)]"
      ]
     },
     "execution_count": 8,
     "metadata": {},
     "output_type": "execute_result"
    }
   ],
   "source": [
    "client.retrieve(\n",
    "    collection_name=\"hello_world_collection\",\n",
    "    ids=[1]\n",
    ")"
   ]
  },
  {
   "cell_type": "code",
   "execution_count": 9,
   "id": "ed17dac1-bdef-4034-a8f3-7a08315173e0",
   "metadata": {},
   "outputs": [
    {
     "data": {
      "text/plain": [
       "UpdateResult(operation_id=1, status=<UpdateStatus.COMPLETED: 'completed'>)"
      ]
     },
     "execution_count": 9,
     "metadata": {},
     "output_type": "execute_result"
    }
   ],
   "source": [
    "# Batch insert\n",
    "\n",
    "client.upsert(\n",
    "    collection_name=\"hello_world_collection\",\n",
    "    points=models.Batch(\n",
    "        ids=[2, 3],\n",
    "        payloads=[\n",
    "            {\"name\": \"orange\"},\n",
    "            {\"name\": \"peach\"},\n",
    "        ],\n",
    "        vectors=[\n",
    "            [3.24, 7.1, 2.8, 1.15],\n",
    "            [1.1, -0.2, -2.1, 3.21]\n",
    "        ],\n",
    "    ),\n",
    ")"
   ]
  },
  {
   "cell_type": "code",
   "execution_count": 10,
   "id": "ba3cebff-45b7-41f6-91c4-b2792cd74090",
   "metadata": {},
   "outputs": [
    {
     "data": {
      "text/plain": [
       "[Record(id=3, payload={'name': 'peach'}, vector=None, shard_key=None),\n",
       " Record(id=1, payload={'name': 'apple'}, vector=None, shard_key=None),\n",
       " Record(id=2, payload={'name': 'orange'}, vector=None, shard_key=None)]"
      ]
     },
     "execution_count": 10,
     "metadata": {},
     "output_type": "execute_result"
    }
   ],
   "source": [
    "client.retrieve(\n",
    "    collection_name=\"hello_world_collection\",\n",
    "    ids=[1, 2 ,3]\n",
    ")"
   ]
  },
  {
   "cell_type": "code",
   "execution_count": 11,
   "id": "e61fce78-cb3f-4706-88b4-b5b996ad49ac",
   "metadata": {},
   "outputs": [
    {
     "data": {
      "text/plain": [
       "UpdateResult(operation_id=2, status=<UpdateStatus.COMPLETED: 'completed'>)"
      ]
     },
     "execution_count": 11,
     "metadata": {},
     "output_type": "execute_result"
    }
   ],
   "source": [
    "# Update the vectors\n",
    "\n",
    "client.update_vectors(\n",
    "    collection_name=\"hello_world_collection\",\n",
    "    points=[\n",
    "        models.PointVectors(\n",
    "            id=2,\n",
    "            vector=[0.0, 1.0, 0.0, 1.0]\n",
    "        )\n",
    "      ],\n",
    "    )"
   ]
  },
  {
   "cell_type": "code",
   "execution_count": 19,
   "id": "6080f7ab-0761-42fd-87b7-e1a5e53cd3c3",
   "metadata": {},
   "outputs": [
    {
     "data": {
      "text/plain": [
       "[Record(id=2, payload={'name': 'orange'}, vector=None, shard_key=None)]"
      ]
     },
     "execution_count": 19,
     "metadata": {},
     "output_type": "execute_result"
    }
   ],
   "source": [
    "client.retrieve(\n",
    "    collection_name=\"hello_world_collection\",\n",
    "    ids=[2]\n",
    ")"
   ]
  },
  {
   "cell_type": "code",
   "execution_count": 20,
   "id": "dfc5bbdf-a6bc-45ff-9178-d40c6ca6a8ad",
   "metadata": {},
   "outputs": [
    {
     "data": {
      "text/plain": [
       "UpdateResult(operation_id=3, status=<UpdateStatus.COMPLETED: 'completed'>)"
      ]
     },
     "execution_count": 20,
     "metadata": {},
     "output_type": "execute_result"
    }
   ],
   "source": [
    "# Delete the named vectors\n",
    "\n",
    "client.delete_vectors(\n",
    "    collection_name=\"hello_world_collection\",\n",
    "    points=[2],\n",
    "    vectors=[\"\"],\n",
    ")\n"
   ]
  },
  {
   "cell_type": "code",
   "execution_count": 22,
   "id": "69a0d51c-ae17-440d-bb5f-22484ddf98d8",
   "metadata": {},
   "outputs": [
    {
     "data": {
      "text/plain": [
       "UpdateResult(operation_id=4, status=<UpdateStatus.COMPLETED: 'completed'>)"
      ]
     },
     "execution_count": 22,
     "metadata": {},
     "output_type": "execute_result"
    }
   ],
   "source": [
    "# Set Payload\n",
    "\n",
    "client.set_payload(\n",
    "    collection_name=\"hello_world_collection\",\n",
    "    payload={\n",
    "        \"property1\": \"string\",\n",
    "        \"property2\": \"string\",\n",
    "    },\n",
    "    points=[1],\n",
    ")"
   ]
  },
  {
   "cell_type": "code",
   "execution_count": 24,
   "id": "6d2b6a1e-b3a5-47fc-bc67-4b5e761a9cb1",
   "metadata": {},
   "outputs": [
    {
     "data": {
      "text/plain": [
       "[Record(id=1, payload={'name': 'apple', 'property1': 'string', 'property2': 'string'}, vector=None, shard_key=None)]"
      ]
     },
     "execution_count": 24,
     "metadata": {},
     "output_type": "execute_result"
    }
   ],
   "source": [
    "client.retrieve(\n",
    "    collection_name=\"hello_world_collection\",\n",
    "    ids=[1]\n",
    ")"
   ]
  },
  {
   "cell_type": "code",
   "execution_count": 25,
   "id": "8f7726db-199f-4912-970e-86510c9912c2",
   "metadata": {},
   "outputs": [
    {
     "data": {
      "text/plain": [
       "UpdateResult(operation_id=5, status=<UpdateStatus.COMPLETED: 'completed'>)"
      ]
     },
     "execution_count": 25,
     "metadata": {},
     "output_type": "execute_result"
    }
   ],
   "source": [
    "# Overwrite payload\n",
    "client.overwrite_payload(\n",
    "    collection_name=\"hello_world_collection\",\n",
    "    payload={\n",
    "        \"property1\": \"string\",\n",
    "        \"property2\": \"string\",\n",
    "    },\n",
    "    points=[2],\n",
    ")"
   ]
  },
  {
   "cell_type": "code",
   "execution_count": 26,
   "id": "73ab1624-baed-4669-ae72-571ec3039bce",
   "metadata": {},
   "outputs": [
    {
     "data": {
      "text/plain": [
       "[Record(id=2, payload={'property1': 'string', 'property2': 'string'}, vector=None, shard_key=None)]"
      ]
     },
     "execution_count": 26,
     "metadata": {},
     "output_type": "execute_result"
    }
   ],
   "source": [
    "client.retrieve(\n",
    "    collection_name=\"hello_world_collection\",\n",
    "    ids=[2]\n",
    ")"
   ]
  },
  {
   "cell_type": "code",
   "execution_count": 27,
   "id": "9350c9f2-08f8-40d8-bf65-09964bb57583",
   "metadata": {},
   "outputs": [
    {
     "data": {
      "text/plain": [
       "UpdateResult(operation_id=6, status=<UpdateStatus.COMPLETED: 'completed'>)"
      ]
     },
     "execution_count": 27,
     "metadata": {},
     "output_type": "execute_result"
    }
   ],
   "source": [
    "# Clear Payload\n",
    "\n",
    "client.clear_payload(\n",
    "    collection_name=\"hello_world_collection\",\n",
    "    points_selector=models.PointIdsList(\n",
    "        points=[3],\n",
    "    ),\n",
    ")"
   ]
  },
  {
   "cell_type": "code",
   "execution_count": 28,
   "id": "cbec9966-4dc2-42ad-baa1-470b43164dab",
   "metadata": {},
   "outputs": [
    {
     "data": {
      "text/plain": [
       "[Record(id=3, payload={}, vector=None, shard_key=None)]"
      ]
     },
     "execution_count": 28,
     "metadata": {},
     "output_type": "execute_result"
    }
   ],
   "source": [
    "client.retrieve(\n",
    "    collection_name=\"hello_world_collection\",\n",
    "    ids=[3]\n",
    ")"
   ]
  },
  {
   "cell_type": "code",
   "execution_count": 29,
   "id": "1142d8bd-63b8-4256-b939-25aaa05e9a54",
   "metadata": {},
   "outputs": [
    {
     "data": {
      "text/plain": [
       "UpdateResult(operation_id=7, status=<UpdateStatus.COMPLETED: 'completed'>)"
      ]
     },
     "execution_count": 29,
     "metadata": {},
     "output_type": "execute_result"
    }
   ],
   "source": [
    "# Delete Payload keys\n",
    "\n",
    "client.delete_payload(\n",
    "    collection_name=\"hello_world_collection\",\n",
    "    keys=[\"property1\", \"property2\"],\n",
    "    points=[1,2],\n",
    ")"
   ]
  },
  {
   "cell_type": "code",
   "execution_count": 30,
   "id": "7d7eaaed-7487-4dbe-827f-f81613df0b17",
   "metadata": {},
   "outputs": [
    {
     "data": {
      "text/plain": [
       "[Record(id=2, payload={}, vector=None, shard_key=None),\n",
       " Record(id=1, payload={'name': 'apple'}, vector=None, shard_key=None)]"
      ]
     },
     "execution_count": 30,
     "metadata": {},
     "output_type": "execute_result"
    }
   ],
   "source": [
    "client.retrieve(\n",
    "    collection_name=\"hello_world_collection\",\n",
    "    ids=[1, 2]\n",
    ")"
   ]
  },
  {
   "cell_type": "code",
   "execution_count": 31,
   "id": "43e1334e-808e-4956-81f0-0806733c39d4",
   "metadata": {},
   "outputs": [
    {
     "data": {
      "text/plain": [
       "UpdateResult(operation_id=8, status=<UpdateStatus.COMPLETED: 'completed'>)"
      ]
     },
     "execution_count": 31,
     "metadata": {},
     "output_type": "execute_result"
    }
   ],
   "source": [
    "# Delete points\n",
    "\n",
    "client.delete(\n",
    "    collection_name=\"hello_world_collection\",\n",
    "    points_selector=models.PointIdsList(\n",
    "        points=[3],\n",
    "    ),\n",
    ")\n"
   ]
  },
  {
   "cell_type": "code",
   "execution_count": 32,
   "id": "040dc72e-80d0-4457-812d-87cc1cd08e1c",
   "metadata": {},
   "outputs": [
    {
     "data": {
      "text/plain": [
       "[]"
      ]
     },
     "execution_count": 32,
     "metadata": {},
     "output_type": "execute_result"
    }
   ],
   "source": [
    "client.retrieve(\n",
    "    collection_name=\"hello_world_collection\",\n",
    "    ids=[3]\n",
    ")"
   ]
  },
  {
   "cell_type": "code",
   "execution_count": null,
   "id": "9a79f068-cbad-4c14-a7e5-629d1808bb11",
   "metadata": {},
   "outputs": [],
   "source": []
  }
 ],
 "metadata": {
  "kernelspec": {
   "display_name": "Python 3 (ipykernel)",
   "language": "python",
   "name": "python3"
  },
  "language_info": {
   "codemirror_mode": {
    "name": "ipython",
    "version": 3
   },
   "file_extension": ".py",
   "mimetype": "text/x-python",
   "name": "python",
   "nbconvert_exporter": "python",
   "pygments_lexer": "ipython3",
   "version": "3.11.2"
  }
 },
 "nbformat": 4,
 "nbformat_minor": 5
}
