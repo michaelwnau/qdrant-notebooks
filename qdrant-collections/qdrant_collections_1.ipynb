{
 "cells": [
  {
   "cell_type": "code",
   "execution_count": 2,
   "id": "13136de9-10e8-49a6-8462-689a44077d8b",
   "metadata": {},
   "outputs": [],
   "source": [
    "from qdrant_client import QdrantClient\n",
    "from qdrant_client.http import models"
   ]
  },
  {
   "cell_type": "code",
   "execution_count": 3,
   "id": "13fcf5d7-5799-4bd7-9023-9aa8066f8c02",
   "metadata": {},
   "outputs": [],
   "source": [
    "client = QdrantClient(\"localhost\", port=6333)"
   ]
  },
  {
   "cell_type": "code",
   "execution_count": 5,
   "id": "5326ffd1-1d30-4344-a25c-1a9091f4b736",
   "metadata": {},
   "outputs": [
    {
     "data": {
      "text/plain": [
       "True"
      ]
     },
     "execution_count": 5,
     "metadata": {},
     "output_type": "execute_result"
    }
   ],
   "source": [
    "client.create_collection(\n",
    "    collection_name=\"hello_world_collection\",\n",
    "    vectors_config=models.VectorParams(size=4, distance=models.Distance.COSINE)\n",
    ")"
   ]
  },
  {
   "cell_type": "code",
   "execution_count": 6,
   "id": "8ed4e433-c8f1-49d6-8fb7-c83e15ee4bf4",
   "metadata": {},
   "outputs": [
    {
     "data": {
      "text/plain": [
       "CollectionsResponse(collections=[CollectionDescription(name='hellow_world_collection'), CollectionDescription(name='hello_world_collection')])"
      ]
     },
     "execution_count": 6,
     "metadata": {},
     "output_type": "execute_result"
    }
   ],
   "source": [
    "client.get_collections()"
   ]
  },
  {
   "cell_type": "code",
   "execution_count": 7,
   "id": "b4f285b8-95be-45a1-b7cd-ccfcbde7fe26",
   "metadata": {},
   "outputs": [
    {
     "data": {
      "text/plain": [
       "True"
      ]
     },
     "execution_count": 7,
     "metadata": {},
     "output_type": "execute_result"
    }
   ],
   "source": [
    "client.create_collection(\n",
    "    collection_name=\"multi_vector_collection\",\n",
    "    vectors_config={\n",
    "        \"vector_set_1\":models.VectorParams(size=1024, distance=models.Distance.DOT),\n",
    "        \"vector_set_2\":models.VectorParams(size=2048, distance=models.Distance.COSINE),\n",
    "    }\n",
    ")"
   ]
  },
  {
   "cell_type": "code",
   "execution_count": 8,
   "id": "aad39067-d039-440c-9776-4f6e28ea3ee3",
   "metadata": {},
   "outputs": [
    {
     "data": {
      "text/plain": [
       "CollectionsResponse(collections=[CollectionDescription(name='hellow_world_collection'), CollectionDescription(name='hello_world_collection'), CollectionDescription(name='multi_vector_collection')])"
      ]
     },
     "execution_count": 8,
     "metadata": {},
     "output_type": "execute_result"
    }
   ],
   "source": [
    "client.get_collections()"
   ]
  },
  {
   "cell_type": "code",
   "execution_count": 9,
   "id": "c55c08ac-a4a6-4e4a-973a-851eebdbd548",
   "metadata": {},
   "outputs": [
    {
     "data": {
      "text/plain": [
       "True"
      ]
     },
     "execution_count": 9,
     "metadata": {},
     "output_type": "execute_result"
    }
   ],
   "source": [
    "client.create_collection(\n",
    "    collection_name=\"sparse_vector_collection\",\n",
    "    sparse_vectors_config={\n",
    "        \"vectors_set_sparse\": models.SparseVectorParams(),\n",
    "    },\n",
    "    vectors_config={}\n",
    ")"
   ]
  },
  {
   "cell_type": "code",
   "execution_count": 10,
   "id": "f2c27e94-b352-405e-a0c7-e7084b7970ff",
   "metadata": {},
   "outputs": [
    {
     "data": {
      "text/plain": [
       "CollectionsResponse(collections=[CollectionDescription(name='sparse_vector_collection'), CollectionDescription(name='hello_world_collection'), CollectionDescription(name='hellow_world_collection'), CollectionDescription(name='multi_vector_collection')])"
      ]
     },
     "execution_count": 10,
     "metadata": {},
     "output_type": "execute_result"
    }
   ],
   "source": [
    "client.get_collections()"
   ]
  },
  {
   "cell_type": "code",
   "execution_count": 13,
   "id": "a757d4a5-2c6f-4f89-a723-f53a29049115",
   "metadata": {},
   "outputs": [
    {
     "data": {
      "text/plain": [
       "True"
      ]
     },
     "execution_count": 13,
     "metadata": {},
     "output_type": "execute_result"
    }
   ],
   "source": [
    "client.delete_collection(collection_name=\"hellow_world_collection\")"
   ]
  },
  {
   "cell_type": "code",
   "execution_count": 14,
   "id": "1318e696-7f5f-409d-b569-38c14a018bd9",
   "metadata": {},
   "outputs": [
    {
     "data": {
      "text/plain": [
       "True"
      ]
     },
     "execution_count": 14,
     "metadata": {},
     "output_type": "execute_result"
    }
   ],
   "source": [
    "client.delete_collection(collection_name=\"hello_world_collection\")"
   ]
  },
  {
   "cell_type": "code",
   "execution_count": 15,
   "id": "edbb9dc6-1ec5-411f-a8fc-82485f6b992d",
   "metadata": {},
   "outputs": [
    {
     "data": {
      "text/plain": [
       "CollectionsResponse(collections=[CollectionDescription(name='sparse_vector_collection'), CollectionDescription(name='multi_vector_collection')])"
      ]
     },
     "execution_count": 15,
     "metadata": {},
     "output_type": "execute_result"
    }
   ],
   "source": [
    "client.get_collections()"
   ]
  },
  {
   "cell_type": "code",
   "execution_count": null,
   "id": "fc3de765-37ba-4041-8998-ccc65be73c4d",
   "metadata": {},
   "outputs": [],
   "source": []
  }
 ],
 "metadata": {
  "kernelspec": {
   "display_name": "Python 3 (ipykernel)",
   "language": "python",
   "name": "python3"
  },
  "language_info": {
   "codemirror_mode": {
    "name": "ipython",
    "version": 3
   },
   "file_extension": ".py",
   "mimetype": "text/x-python",
   "name": "python",
   "nbconvert_exporter": "python",
   "pygments_lexer": "ipython3",
   "version": "3.12.0"
  }
 },
 "nbformat": 4,
 "nbformat_minor": 5
}
