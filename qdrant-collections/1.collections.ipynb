{
 "cells": [
  {
   "cell_type": "code",
   "execution_count": 1,
   "id": "47838304-561b-4d33-8b30-b174d45cd659",
   "metadata": {},
   "outputs": [],
   "source": [
    "from qdrant_client import QdrantClient\n",
    "from qdrant_client.http import models"
   ]
  },
  {
   "cell_type": "code",
   "execution_count": 2,
   "id": "b2efe77b-c8c4-49ed-b6d5-73dc8e808548",
   "metadata": {},
   "outputs": [],
   "source": [
    "client = QdrantClient(\"localhost\", port=6333)"
   ]
  },
  {
   "cell_type": "code",
   "execution_count": 11,
   "id": "cac40fe1-e86b-40ad-83a4-e8e43519227d",
   "metadata": {},
   "outputs": [
    {
     "data": {
      "text/plain": [
       "True"
      ]
     },
     "execution_count": 11,
     "metadata": {},
     "output_type": "execute_result"
    }
   ],
   "source": [
    "client.create_collection(\n",
    "    collection_name=\"hello_world_collection\",\n",
    "    vectors_config=models.VectorParams(size=4, distance=models.Distance.COSINE),\n",
    ")"
   ]
  },
  {
   "cell_type": "code",
   "execution_count": 4,
   "id": "b174acfa-7f41-4384-af29-aa6d051c9543",
   "metadata": {},
   "outputs": [
    {
     "data": {
      "text/plain": [
       "CollectionsResponse(collections=[CollectionDescription(name='hello_world_collection')])"
      ]
     },
     "execution_count": 4,
     "metadata": {},
     "output_type": "execute_result"
    }
   ],
   "source": [
    "client.get_collections()"
   ]
  },
  {
   "cell_type": "code",
   "execution_count": 5,
   "id": "4d588c8d-db28-4359-9e5c-b5ed23e73173",
   "metadata": {},
   "outputs": [
    {
     "data": {
      "text/plain": [
       "True"
      ]
     },
     "execution_count": 5,
     "metadata": {},
     "output_type": "execute_result"
    }
   ],
   "source": [
    "# Collection with multiple vectors (named Vectors)\n",
    "\n",
    "client.create_collection(\n",
    "    collection_name=\"multi_vector_collection\",\n",
    "    vectors_config={\n",
    "        \"vector_set_1\": models.VectorParams(size=1024, distance=models.Distance.DOT),\n",
    "        \"vector_set_2\": models.VectorParams(size=2048, distance=models.Distance.COSINE),\n",
    "    },\n",
    ")"
   ]
  },
  {
   "cell_type": "code",
   "execution_count": 6,
   "id": "c7416b1a-d1a4-49c4-b724-8a554696a88b",
   "metadata": {},
   "outputs": [
    {
     "data": {
      "text/plain": [
       "CollectionsResponse(collections=[CollectionDescription(name='multi_vector_collection'), CollectionDescription(name='hello_world_collection')])"
      ]
     },
     "execution_count": 6,
     "metadata": {},
     "output_type": "execute_result"
    }
   ],
   "source": [
    "client.get_collections()"
   ]
  },
  {
   "cell_type": "code",
   "execution_count": 7,
   "id": "2c77b9b4-8823-4c56-8999-2f4fc94da894",
   "metadata": {},
   "outputs": [
    {
     "data": {
      "text/plain": [
       "True"
      ]
     },
     "execution_count": 7,
     "metadata": {},
     "output_type": "execute_result"
    }
   ],
   "source": [
    "# named sparse vectors\n",
    "\n",
    "client.create_collection(\n",
    "    collection_name=\"sparse_vector_collection\",\n",
    "    sparse_vectors_config={\n",
    "        \"vector_set_sparse\": models.SparseVectorParams(),\n",
    "    },\n",
    "    vectors_config={}\n",
    ")"
   ]
  },
  {
   "cell_type": "code",
   "execution_count": 8,
   "id": "af108944-98a4-4a47-bd99-fe597fd84c3a",
   "metadata": {},
   "outputs": [
    {
     "data": {
      "text/plain": [
       "CollectionsResponse(collections=[CollectionDescription(name='multi_vector_collection'), CollectionDescription(name='sparse_vector_collection'), CollectionDescription(name='hello_world_collection')])"
      ]
     },
     "execution_count": 8,
     "metadata": {},
     "output_type": "execute_result"
    }
   ],
   "source": [
    "client.get_collections()"
   ]
  },
  {
   "cell_type": "code",
   "execution_count": 9,
   "id": "89eae2a2-92d6-4274-b692-aa84a050856f",
   "metadata": {},
   "outputs": [
    {
     "data": {
      "text/plain": [
       "True"
      ]
     },
     "execution_count": 9,
     "metadata": {},
     "output_type": "execute_result"
    }
   ],
   "source": [
    "# Delete Collection\n",
    "\n",
    "client.delete_collection(collection_name=\"hello_world_collection\")"
   ]
  },
  {
   "cell_type": "code",
   "execution_count": 10,
   "id": "422f73b4-822a-4260-935b-ae2561d954fc",
   "metadata": {},
   "outputs": [
    {
     "data": {
      "text/plain": [
       "CollectionsResponse(collections=[CollectionDescription(name='multi_vector_collection'), CollectionDescription(name='sparse_vector_collection')])"
      ]
     },
     "execution_count": 10,
     "metadata": {},
     "output_type": "execute_result"
    }
   ],
   "source": [
    "client.get_collections()"
   ]
  },
  {
   "cell_type": "code",
   "execution_count": null,
   "id": "20279829-f908-4453-9842-3f7a46bfc5bc",
   "metadata": {},
   "outputs": [],
   "source": []
  }
 ],
 "metadata": {
  "kernelspec": {
   "display_name": "Python 3 (ipykernel)",
   "language": "python",
   "name": "python3"
  },
  "language_info": {
   "codemirror_mode": {
    "name": "ipython",
    "version": 3
   },
   "file_extension": ".py",
   "mimetype": "text/x-python",
   "name": "python",
   "nbconvert_exporter": "python",
   "pygments_lexer": "ipython3",
   "version": "3.11.2"
  }
 },
 "nbformat": 4,
 "nbformat_minor": 5
}
